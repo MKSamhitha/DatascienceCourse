{
 "cells": [
  {
   "cell_type": "markdown",
   "id": "72499957-5ac8-40ea-8af6-e809ea02375e",
   "metadata": {},
   "source": [
    "#  Data Science Tools and Ecosystems"
   ]
  },
  {
   "cell_type": "markdown",
   "id": "bb87cd20-b3f5-4867-8ae5-875a2a137479",
   "metadata": {},
   "source": [
    "## In This notebook,Data Science tools and Ecosystems are summarized"
   ]
  },
  {
   "cell_type": "markdown",
   "id": "f23d4518-d7bf-40ea-b1ef-a45a7598a1cf",
   "metadata": {
    "tags": []
   },
   "source": [
    "## Objectives:\n",
    "1. List of tools used for Data Science \n",
    "2. List of languages used for data Science\n",
    "3. Libraries used in Data Science\n",
    "4. Working Environments\n",
    "5. Demonstrate on Git and GitHub"
   ]
  },
  {
   "cell_type": "markdown",
   "id": "cc27688b-8df0-4d97-81e3-f781d2ec3c67",
   "metadata": {
    "tags": []
   },
   "source": [
    "### Some of the popular languages used by Data Scientists are:\n",
    "1. python\n",
    "2. R\n",
    "3. SQL\n",
    "4. Julia\n",
    "5. JavaScript"
   ]
  },
  {
   "cell_type": "markdown",
   "id": "3ae66cad-e1f3-42f7-b648-4600378950bc",
   "metadata": {},
   "source": [
    "### Some of the commonly used libraries by Data Scientists are:\n",
    "1. NumPy\n",
    "2. Pandas\n",
    "3. Keras\n",
    "4. Scikit-Learn\n",
    "5. PyTorch\n",
    "6. TensorFlow\n",
    "7. Matplotlib\n",
    "8. SciPy"
   ]
  },
  {
   "cell_type": "markdown",
   "id": "55007a5f-9d45-4cf6-a61a-3c41fc5e7493",
   "metadata": {},
   "source": [
    "| Data Science Tools |\n",
    "| -------------------- |\n",
    "|1. Jupyter Notebooks |\n",
    "|2.  RStudio |\n",
    "|3. Apache Zeppelin |"
   ]
  },
  {
   "cell_type": "markdown",
   "id": "6f2bbf34-398f-4894-94b1-e8e192121b84",
   "metadata": {},
   "source": [
    "\n",
    "# Below are a few examples of evaluating arithmetic expressions in Python\n"
   ]
  },
  {
   "cell_type": "code",
   "execution_count": 5,
   "id": "41ea4fa3-cd8b-48f6-b228-2b37dcb858a9",
   "metadata": {
    "tags": []
   },
   "outputs": [
    {
     "data": {
      "text/plain": [
       "468"
      ]
     },
     "execution_count": 5,
     "metadata": {},
     "output_type": "execute_result"
    }
   ],
   "source": [
    "#Addition Operation\n",
    "345+123\n"
   ]
  },
  {
   "cell_type": "code",
   "execution_count": 6,
   "id": "45ad69d7-3a6b-4c4f-9d0d-c5ffc10e979a",
   "metadata": {
    "tags": []
   },
   "outputs": [
    {
     "data": {
      "text/plain": [
       "625"
      ]
     },
     "execution_count": 6,
     "metadata": {},
     "output_type": "execute_result"
    }
   ],
   "source": [
    "#Multiplication operation\n",
    "25*25\n"
   ]
  },
  {
   "cell_type": "code",
   "execution_count": 7,
   "id": "5df3d977-af0a-41ba-8d2a-79ddb3e6d590",
   "metadata": {
    "tags": []
   },
   "outputs": [
    {
     "data": {
      "text/plain": [
       "110"
      ]
     },
     "execution_count": 7,
     "metadata": {},
     "output_type": "execute_result"
    }
   ],
   "source": [
    "#Subtraction operation\n",
    "234-124"
   ]
  },
  {
   "cell_type": "code",
   "execution_count": 8,
   "id": "da818fc8-ae52-4eb9-bc97-089572e7f68e",
   "metadata": {
    "tags": []
   },
   "outputs": [
    {
     "data": {
      "text/plain": [
       "15.136363636363637"
      ]
     },
     "execution_count": 8,
     "metadata": {},
     "output_type": "execute_result"
    }
   ],
   "source": [
    "#Division Operation\n",
    "333/22\n"
   ]
  },
  {
   "cell_type": "code",
   "execution_count": 9,
   "id": "0f314a94-bc32-4413-81f1-4218834a155c",
   "metadata": {
    "tags": []
   },
   "outputs": [
    {
     "data": {
      "text/plain": [
       "3"
      ]
     },
     "execution_count": 9,
     "metadata": {},
     "output_type": "execute_result"
    }
   ],
   "source": [
    "#modulo operation\n",
    "333%22"
   ]
  },
  {
   "cell_type": "markdown",
   "id": "f4646cc7-401c-417e-9298-bfbf383cad59",
   "metadata": {},
   "source": [
    "#This a simple arithmetic expression to mutiply then add integers"
   ]
  },
  {
   "cell_type": "code",
   "execution_count": 10,
   "id": "4f63beb5-90a9-415a-8766-e1bb8013c8c3",
   "metadata": {
    "tags": []
   },
   "outputs": [
    {
     "data": {
      "text/plain": [
       "17"
      ]
     },
     "execution_count": 10,
     "metadata": {},
     "output_type": "execute_result"
    }
   ],
   "source": [
    "(3*4)+5"
   ]
  },
  {
   "cell_type": "code",
   "execution_count": 19,
   "id": "70e643b1-b646-4e75-93eb-259557e40abf",
   "metadata": {
    "tags": []
   },
   "outputs": [
    {
     "data": {
      "text/plain": [
       "35"
      ]
     },
     "execution_count": 19,
     "metadata": {},
     "output_type": "execute_result"
    }
   ],
   "source": [
    "#this is a simple arithmetic expression to add then mutliply\n",
    "(3+4)*5"
   ]
  },
  {
   "cell_type": "code",
   "execution_count": 20,
   "id": "a8f4cf43-6345-4251-a0c9-7d748308b5e3",
   "metadata": {
    "tags": []
   },
   "outputs": [
    {
     "data": {
      "text/plain": [
       "3.3333333333333335"
      ]
     },
     "execution_count": 20,
     "metadata": {},
     "output_type": "execute_result"
    }
   ],
   "source": [
    "#To convert 200 minutes to hours divide it with 60\n",
    "200/60"
   ]
  },
  {
   "cell_type": "code",
   "execution_count": null,
   "id": "90e14f73-3bd9-4685-9d0a-f70fcb740d1e",
   "metadata": {},
   "outputs": [],
   "source": []
  },
  {
   "cell_type": "markdown",
   "id": "2ce9678e-a19f-43d8-b5ce-e36677b10aec",
   "metadata": {
    "tags": []
   },
   "source": [
    "## Author\n",
    "Madiraju Krishna Samhitha"
   ]
  },
  {
   "cell_type": "code",
   "execution_count": null,
   "id": "f8cd7643-423f-42ef-a148-ee503dd48588",
   "metadata": {},
   "outputs": [],
   "source": []
  }
 ],
 "metadata": {
  "kernelspec": {
   "display_name": "Python",
   "language": "python",
   "name": "conda-env-python-py"
  },
  "language_info": {
   "codemirror_mode": {
    "name": "ipython",
    "version": 3
   },
   "file_extension": ".py",
   "mimetype": "text/x-python",
   "name": "python",
   "nbconvert_exporter": "python",
   "pygments_lexer": "ipython3",
   "version": "3.7.12"
  }
 },
 "nbformat": 4,
 "nbformat_minor": 5
}
